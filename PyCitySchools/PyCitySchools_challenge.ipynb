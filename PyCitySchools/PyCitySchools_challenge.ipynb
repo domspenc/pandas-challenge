{
 "cells": [
  {
   "cell_type": "code",
   "execution_count": null,
   "id": "e23af1b5-e29b-4f1a-a5af-578a2dff229e",
   "metadata": {},
   "outputs": [],
   "source": [
    "# Good luck Dom, you got this girl!"
   ]
  },
  {
   "cell_type": "code",
   "execution_count": 1,
   "id": "6a92f506-fd9e-4259-bd40-007d6bc1d27e",
   "metadata": {},
   "outputs": [],
   "source": [
    "# Dependencies and Setup\n",
    "import pandas as pd\n",
    "#import pandas_profiling - ask about this!!\n",
    "from pathlib import Path\n",
    "\n",
    "# File to Load \n",
    "school_data_to_load = Path(\"Resources/schools_complete.csv\")\n",
    "student_data_to_load = Path(\"Resources/students_complete.csv\")\n",
    "\n",
    "# Read School and Student Data File and store into Pandas DataFrames\n",
    "school_data_df = pd.read_csv(school_data_to_load)\n",
    "student_data_df = pd.read_csv(student_data_to_load)\n",
    "\n",
    "# Combine the data into a single DataFrame.  \n",
    "complete_challenge_df = pd.merge(student_data_df, school_data_df, how=\"left\", on=[\"school_name\", \"school_name\"])"
   ]
  },
  {
   "cell_type": "code",
   "execution_count": 2,
   "id": "0cf3413e-a4d4-4de0-8851-d1a7d41fa1d1",
   "metadata": {},
   "outputs": [
    {
     "data": {
      "text/html": [
       "<div>\n",
       "<style scoped>\n",
       "    .dataframe tbody tr th:only-of-type {\n",
       "        vertical-align: middle;\n",
       "    }\n",
       "\n",
       "    .dataframe tbody tr th {\n",
       "        vertical-align: top;\n",
       "    }\n",
       "\n",
       "    .dataframe thead th {\n",
       "        text-align: right;\n",
       "    }\n",
       "</style>\n",
       "<table border=\"1\" class=\"dataframe\">\n",
       "  <thead>\n",
       "    <tr style=\"text-align: right;\">\n",
       "      <th></th>\n",
       "      <th>Student ID</th>\n",
       "      <th>student_name</th>\n",
       "      <th>gender</th>\n",
       "      <th>year</th>\n",
       "      <th>school_name</th>\n",
       "      <th>reading_score</th>\n",
       "      <th>maths_score</th>\n",
       "      <th>School ID</th>\n",
       "      <th>type</th>\n",
       "      <th>size</th>\n",
       "      <th>budget</th>\n",
       "    </tr>\n",
       "  </thead>\n",
       "  <tbody>\n",
       "    <tr>\n",
       "      <th>0</th>\n",
       "      <td>0</td>\n",
       "      <td>Paul Bradley</td>\n",
       "      <td>M</td>\n",
       "      <td>9</td>\n",
       "      <td>Huang High School</td>\n",
       "      <td>96</td>\n",
       "      <td>94</td>\n",
       "      <td>0</td>\n",
       "      <td>Government</td>\n",
       "      <td>2917</td>\n",
       "      <td>1910635</td>\n",
       "    </tr>\n",
       "    <tr>\n",
       "      <th>1</th>\n",
       "      <td>1</td>\n",
       "      <td>Victor Smith</td>\n",
       "      <td>M</td>\n",
       "      <td>12</td>\n",
       "      <td>Huang High School</td>\n",
       "      <td>90</td>\n",
       "      <td>43</td>\n",
       "      <td>0</td>\n",
       "      <td>Government</td>\n",
       "      <td>2917</td>\n",
       "      <td>1910635</td>\n",
       "    </tr>\n",
       "    <tr>\n",
       "      <th>2</th>\n",
       "      <td>2</td>\n",
       "      <td>Kevin Rodriguez</td>\n",
       "      <td>M</td>\n",
       "      <td>12</td>\n",
       "      <td>Huang High School</td>\n",
       "      <td>41</td>\n",
       "      <td>76</td>\n",
       "      <td>0</td>\n",
       "      <td>Government</td>\n",
       "      <td>2917</td>\n",
       "      <td>1910635</td>\n",
       "    </tr>\n",
       "    <tr>\n",
       "      <th>3</th>\n",
       "      <td>3</td>\n",
       "      <td>Richard Scott</td>\n",
       "      <td>M</td>\n",
       "      <td>12</td>\n",
       "      <td>Huang High School</td>\n",
       "      <td>89</td>\n",
       "      <td>86</td>\n",
       "      <td>0</td>\n",
       "      <td>Government</td>\n",
       "      <td>2917</td>\n",
       "      <td>1910635</td>\n",
       "    </tr>\n",
       "    <tr>\n",
       "      <th>4</th>\n",
       "      <td>4</td>\n",
       "      <td>Bonnie Ray</td>\n",
       "      <td>F</td>\n",
       "      <td>9</td>\n",
       "      <td>Huang High School</td>\n",
       "      <td>87</td>\n",
       "      <td>69</td>\n",
       "      <td>0</td>\n",
       "      <td>Government</td>\n",
       "      <td>2917</td>\n",
       "      <td>1910635</td>\n",
       "    </tr>\n",
       "  </tbody>\n",
       "</table>\n",
       "</div>"
      ],
      "text/plain": [
       "   Student ID     student_name gender  year        school_name  reading_score  \\\n",
       "0           0     Paul Bradley      M     9  Huang High School             96   \n",
       "1           1     Victor Smith      M    12  Huang High School             90   \n",
       "2           2  Kevin Rodriguez      M    12  Huang High School             41   \n",
       "3           3    Richard Scott      M    12  Huang High School             89   \n",
       "4           4       Bonnie Ray      F     9  Huang High School             87   \n",
       "\n",
       "   maths_score  School ID        type  size   budget  \n",
       "0           94          0  Government  2917  1910635  \n",
       "1           43          0  Government  2917  1910635  \n",
       "2           76          0  Government  2917  1910635  \n",
       "3           86          0  Government  2917  1910635  \n",
       "4           69          0  Government  2917  1910635  "
      ]
     },
     "execution_count": 2,
     "metadata": {},
     "output_type": "execute_result"
    }
   ],
   "source": [
    "# Get a snapshot of the data to make sure it's correct\n",
    "complete_challenge_df.head()"
   ]
  },
  {
   "cell_type": "code",
   "execution_count": 3,
   "id": "1ee1e47a-7a88-4a63-b143-08ba2fa875c0",
   "metadata": {},
   "outputs": [],
   "source": [
    "# Look at df details and check for null-values, odd datatypes, duplicates etc...\n",
    "# Complete_challenge_df.info() - all good!\n",
    "# Complete_challenge_df.count() - all good!"
   ]
  },
  {
   "cell_type": "code",
   "execution_count": 4,
   "id": "7052da46-3f35-4aa8-89f1-14caf6632b10",
   "metadata": {},
   "outputs": [
    {
     "data": {
      "text/html": [
       "<div>\n",
       "<style scoped>\n",
       "    .dataframe tbody tr th:only-of-type {\n",
       "        vertical-align: middle;\n",
       "    }\n",
       "\n",
       "    .dataframe tbody tr th {\n",
       "        vertical-align: top;\n",
       "    }\n",
       "\n",
       "    .dataframe thead th {\n",
       "        text-align: right;\n",
       "    }\n",
       "</style>\n",
       "<table border=\"1\" class=\"dataframe\">\n",
       "  <thead>\n",
       "    <tr style=\"text-align: right;\">\n",
       "      <th></th>\n",
       "      <th>Student ID</th>\n",
       "      <th>Student Name</th>\n",
       "      <th>Gender</th>\n",
       "      <th>Year</th>\n",
       "      <th>School Name</th>\n",
       "      <th>Reading Score</th>\n",
       "      <th>Maths Score</th>\n",
       "      <th>School ID</th>\n",
       "      <th>School Type</th>\n",
       "      <th>School Size</th>\n",
       "      <th>School Budget</th>\n",
       "    </tr>\n",
       "  </thead>\n",
       "  <tbody>\n",
       "    <tr>\n",
       "      <th>0</th>\n",
       "      <td>0</td>\n",
       "      <td>Paul Bradley</td>\n",
       "      <td>M</td>\n",
       "      <td>9</td>\n",
       "      <td>Huang High School</td>\n",
       "      <td>96</td>\n",
       "      <td>94</td>\n",
       "      <td>0</td>\n",
       "      <td>Government</td>\n",
       "      <td>2917</td>\n",
       "      <td>1910635</td>\n",
       "    </tr>\n",
       "    <tr>\n",
       "      <th>1</th>\n",
       "      <td>1</td>\n",
       "      <td>Victor Smith</td>\n",
       "      <td>M</td>\n",
       "      <td>12</td>\n",
       "      <td>Huang High School</td>\n",
       "      <td>90</td>\n",
       "      <td>43</td>\n",
       "      <td>0</td>\n",
       "      <td>Government</td>\n",
       "      <td>2917</td>\n",
       "      <td>1910635</td>\n",
       "    </tr>\n",
       "    <tr>\n",
       "      <th>2</th>\n",
       "      <td>2</td>\n",
       "      <td>Kevin Rodriguez</td>\n",
       "      <td>M</td>\n",
       "      <td>12</td>\n",
       "      <td>Huang High School</td>\n",
       "      <td>41</td>\n",
       "      <td>76</td>\n",
       "      <td>0</td>\n",
       "      <td>Government</td>\n",
       "      <td>2917</td>\n",
       "      <td>1910635</td>\n",
       "    </tr>\n",
       "    <tr>\n",
       "      <th>3</th>\n",
       "      <td>3</td>\n",
       "      <td>Richard Scott</td>\n",
       "      <td>M</td>\n",
       "      <td>12</td>\n",
       "      <td>Huang High School</td>\n",
       "      <td>89</td>\n",
       "      <td>86</td>\n",
       "      <td>0</td>\n",
       "      <td>Government</td>\n",
       "      <td>2917</td>\n",
       "      <td>1910635</td>\n",
       "    </tr>\n",
       "    <tr>\n",
       "      <th>4</th>\n",
       "      <td>4</td>\n",
       "      <td>Bonnie Ray</td>\n",
       "      <td>F</td>\n",
       "      <td>9</td>\n",
       "      <td>Huang High School</td>\n",
       "      <td>87</td>\n",
       "      <td>69</td>\n",
       "      <td>0</td>\n",
       "      <td>Government</td>\n",
       "      <td>2917</td>\n",
       "      <td>1910635</td>\n",
       "    </tr>\n",
       "  </tbody>\n",
       "</table>\n",
       "</div>"
      ],
      "text/plain": [
       "   Student ID     Student Name Gender  Year        School Name  Reading Score  \\\n",
       "0           0     Paul Bradley      M     9  Huang High School             96   \n",
       "1           1     Victor Smith      M    12  Huang High School             90   \n",
       "2           2  Kevin Rodriguez      M    12  Huang High School             41   \n",
       "3           3    Richard Scott      M    12  Huang High School             89   \n",
       "4           4       Bonnie Ray      F     9  Huang High School             87   \n",
       "\n",
       "   Maths Score  School ID School Type  School Size  School Budget  \n",
       "0           94          0  Government         2917        1910635  \n",
       "1           43          0  Government         2917        1910635  \n",
       "2           76          0  Government         2917        1910635  \n",
       "3           86          0  Government         2917        1910635  \n",
       "4           69          0  Government         2917        1910635  "
      ]
     },
     "execution_count": 4,
     "metadata": {},
     "output_type": "execute_result"
    }
   ],
   "source": [
    "# Rename columns for aesthetics\n",
    "tidy_complete_challenge = complete_challenge_df.rename(columns={\"student_name\": \"Student Name\", \"gender\": \"Gender\",\n",
    "                                              \"year\": \"Year\", \"school_name\": \"School Name\", \"reading_score\": \"Reading Score\",\n",
    "                                                \"maths_score\": \"Maths Score\", \"type\": \"School Type\", \"size\": \"School Size\", \"budget\": \"School Budget\"})\n",
    "tidy_complete_challenge.head()"
   ]
  },
  {
   "cell_type": "code",
   "execution_count": 5,
   "id": "c930f85f-d7bc-4ccc-9532-55fb292220b5",
   "metadata": {},
   "outputs": [],
   "source": [
    "# Perform the necessary calculations and then create a high-level snapshot of the local \n",
    "# government area's key metrics in a DataFrame"
   ]
  },
  {
   "cell_type": "code",
   "execution_count": 6,
   "id": "fe2b7620-0eb6-4ebf-8242-83fb7812045a",
   "metadata": {},
   "outputs": [
    {
     "data": {
      "text/plain": [
       "15"
      ]
     },
     "execution_count": 6,
     "metadata": {},
     "output_type": "execute_result"
    }
   ],
   "source": [
    "# Total number of unique schools\n",
    "unique_schools_df = tidy_complete_challenge['School Name'].nunique()\n",
    "unique_schools_df"
   ]
  },
  {
   "cell_type": "code",
   "execution_count": 7,
   "id": "1c0c6b50-3eee-4241-8ae4-e0f052ffa1bf",
   "metadata": {},
   "outputs": [
    {
     "data": {
      "text/plain": [
       "39170"
      ]
     },
     "execution_count": 7,
     "metadata": {},
     "output_type": "execute_result"
    }
   ],
   "source": [
    "# Total students\n",
    "total_students_df = tidy_complete_challenge['Student ID'].nunique()\n",
    "total_students_df"
   ]
  },
  {
   "cell_type": "code",
   "execution_count": 8,
   "id": "84ac6749-b8a2-4098-8dd7-b5c6c26eb559",
   "metadata": {},
   "outputs": [
    {
     "data": {
      "text/plain": [
       "24649428"
      ]
     },
     "execution_count": 8,
     "metadata": {},
     "output_type": "execute_result"
    }
   ],
   "source": [
    "# Total budget\n",
    "total_budget_df = tidy_complete_challenge['School Budget'].unique()\n",
    "total_budget_df.sum()"
   ]
  },
  {
   "cell_type": "code",
   "execution_count": 9,
   "id": "7e181f2c-033d-471f-8423-8749e0e654b0",
   "metadata": {},
   "outputs": [
    {
     "data": {
      "text/plain": [
       "70.33819249425581"
      ]
     },
     "execution_count": 9,
     "metadata": {},
     "output_type": "execute_result"
    }
   ],
   "source": [
    "# Average maths score\n",
    "mean_maths_df = tidy_complete_challenge['Maths Score'].mean()\n",
    "mean_maths_df"
   ]
  },
  {
   "cell_type": "code",
   "execution_count": 10,
   "id": "378382e7-6c82-4b4d-b1aa-550b36e0a232",
   "metadata": {},
   "outputs": [
    {
     "data": {
      "text/plain": [
       "69.98013786060761"
      ]
     },
     "execution_count": 10,
     "metadata": {},
     "output_type": "execute_result"
    }
   ],
   "source": [
    "# Average reading score\n",
    "mean_reading_df = tidy_complete_challenge['Reading Score'].mean()\n",
    "mean_reading_df"
   ]
  },
  {
   "cell_type": "code",
   "execution_count": 11,
   "id": "b2be8a04-e7f3-4bad-afa4-9d39b50127ec",
   "metadata": {},
   "outputs": [
    {
     "data": {
      "text/plain": [
       "86.07863160582077"
      ]
     },
     "execution_count": 11,
     "metadata": {},
     "output_type": "execute_result"
    }
   ],
   "source": [
    "# % passing maths (the percentage of students who passed maths)\n",
    "maths_pass_percent_df = tidy_complete_challenge[tidy_complete_challenge['Maths Score'] >= 50].count()/total_students_df*100\n",
    "maths_pass_percent_df['Maths Score']"
   ]
  },
  {
   "cell_type": "code",
   "execution_count": 12,
   "id": "b40c7b8f-d505-4690-a3a6-9c296759a0d9",
   "metadata": {},
   "outputs": [
    {
     "data": {
      "text/plain": [
       "84.42685728874139"
      ]
     },
     "execution_count": 12,
     "metadata": {},
     "output_type": "execute_result"
    }
   ],
   "source": [
    "# % passing reading (the percentage of students who passed reading)\n",
    "reading_pass_percent_df = tidy_complete_challenge[tidy_complete_challenge['Reading Score'] >= 50].count()/total_students_df*100\n",
    "reading_pass_percent_df['Reading Score']"
   ]
  },
  {
   "cell_type": "code",
   "execution_count": 13,
   "id": "e15bd47a-a26d-4c19-bb99-bb76a720c46a",
   "metadata": {},
   "outputs": [
    {
     "data": {
      "text/plain": [
       "72.80827163645647"
      ]
     },
     "execution_count": 13,
     "metadata": {},
     "output_type": "execute_result"
    }
   ],
   "source": [
    "# % overall passing (the percentage of students who passed maths AND reading)\n",
    "maths_reading_df = tidy_complete_challenge.loc[(tidy_complete_challenge['Maths Score'] >= 50) & (tidy_complete_challenge['Reading Score'] >= 50)]\n",
    "maths_and_reading_df = (maths_reading_df['Student ID'].nunique()/total_students_df*100)\n",
    "maths_and_reading_df"
   ]
  },
  {
   "cell_type": "code",
   "execution_count": 14,
   "id": "51acc3aa-96da-40e9-a593-6a08b63bf054",
   "metadata": {},
   "outputs": [
    {
     "data": {
      "text/html": [
       "<div>\n",
       "<style scoped>\n",
       "    .dataframe tbody tr th:only-of-type {\n",
       "        vertical-align: middle;\n",
       "    }\n",
       "\n",
       "    .dataframe tbody tr th {\n",
       "        vertical-align: top;\n",
       "    }\n",
       "\n",
       "    .dataframe thead th {\n",
       "        text-align: right;\n",
       "    }\n",
       "</style>\n",
       "<table border=\"1\" class=\"dataframe\">\n",
       "  <thead>\n",
       "    <tr style=\"text-align: right;\">\n",
       "      <th></th>\n",
       "      <th>Total Schools</th>\n",
       "      <th>Total Students</th>\n",
       "      <th>Total Budget</th>\n",
       "      <th>Average Maths Score</th>\n",
       "      <th>Average Reading Score</th>\n",
       "      <th>% Passing Maths</th>\n",
       "      <th>% Passing Reading</th>\n",
       "      <th>% Overall Passing</th>\n",
       "    </tr>\n",
       "  </thead>\n",
       "  <tbody>\n",
       "    <tr>\n",
       "      <th>0</th>\n",
       "      <td>15</td>\n",
       "      <td>39,170</td>\n",
       "      <td>$24,649,428</td>\n",
       "      <td>70.34</td>\n",
       "      <td>69.98</td>\n",
       "      <td>86.08%</td>\n",
       "      <td>84.43%</td>\n",
       "      <td>72.81%</td>\n",
       "    </tr>\n",
       "  </tbody>\n",
       "</table>\n",
       "</div>"
      ],
      "text/plain": [
       "   Total Schools Total Students Total Budget Average Maths Score  \\\n",
       "0             15         39,170  $24,649,428               70.34   \n",
       "\n",
       "  Average Reading Score % Passing Maths % Passing Reading % Overall Passing  \n",
       "0                 69.98          86.08%            84.43%            72.81%  "
      ]
     },
     "execution_count": 14,
     "metadata": {},
     "output_type": "execute_result"
    }
   ],
   "source": [
    "# DataFrame for overall school data, with floats rounded to 2 decimal places for clarity\n",
    "\n",
    "lga_summary_df = pd.DataFrame([\n",
    "    {\"Total Schools\": unique_schools_df,\n",
    "    \"Total Students\": f\"{total_students_df:,}\",\n",
    "    \"Total Budget\": f\"${total_budget_df.sum():,}\",\n",
    "    \"Average Maths Score\": f\"{mean_maths_df:.2f}\",\n",
    "    \"Average Reading Score\": f\"{mean_reading_df:.2f}\",\n",
    "    \"% Passing Maths\": f\"{maths_pass_percent_df['Maths Score']:.2f}%\",\n",
    "    \"% Passing Reading\": f\"{reading_pass_percent_df['Reading Score']:.2f}%\",\n",
    "    \"% Overall Passing\": f\"{maths_and_reading_df:.2f}%\"}\n",
    "])\n",
    "lga_summary_df"
   ]
  },
  {
   "cell_type": "code",
   "execution_count": 15,
   "id": "0a92d92a-1a7e-4dfb-b2d2-317a864ef794",
   "metadata": {},
   "outputs": [
    {
     "data": {
      "text/html": [
       "<div>\n",
       "<style scoped>\n",
       "    .dataframe tbody tr th:only-of-type {\n",
       "        vertical-align: middle;\n",
       "    }\n",
       "\n",
       "    .dataframe tbody tr th {\n",
       "        vertical-align: top;\n",
       "    }\n",
       "\n",
       "    .dataframe thead th {\n",
       "        text-align: right;\n",
       "    }\n",
       "</style>\n",
       "<table border=\"1\" class=\"dataframe\">\n",
       "  <thead>\n",
       "    <tr style=\"text-align: right;\">\n",
       "      <th></th>\n",
       "      <th>School Type</th>\n",
       "      <th>Total Students</th>\n",
       "      <th>Total School Budget</th>\n",
       "      <th>Per Student Budget</th>\n",
       "      <th>Average Maths Score</th>\n",
       "      <th>Average Reading Score</th>\n",
       "      <th>% Passing Maths</th>\n",
       "      <th>% Passing Reading</th>\n",
       "      <th>% Overall Passing</th>\n",
       "    </tr>\n",
       "    <tr>\n",
       "      <th>School Name</th>\n",
       "      <th></th>\n",
       "      <th></th>\n",
       "      <th></th>\n",
       "      <th></th>\n",
       "      <th></th>\n",
       "      <th></th>\n",
       "      <th></th>\n",
       "      <th></th>\n",
       "      <th></th>\n",
       "    </tr>\n",
       "  </thead>\n",
       "  <tbody>\n",
       "    <tr>\n",
       "      <th>Bailey High School</th>\n",
       "      <td>[Government]</td>\n",
       "      <td>4,976</td>\n",
       "      <td>$3,124,928.00</td>\n",
       "      <td>$628.00</td>\n",
       "      <td>72.35</td>\n",
       "      <td>71.01</td>\n",
       "      <td>91.64%</td>\n",
       "      <td>87.38%</td>\n",
       "      <td>80.08%</td>\n",
       "    </tr>\n",
       "    <tr>\n",
       "      <th>Cabrera High School</th>\n",
       "      <td>[Independent]</td>\n",
       "      <td>1,858</td>\n",
       "      <td>$1,081,356.00</td>\n",
       "      <td>$582.00</td>\n",
       "      <td>71.66</td>\n",
       "      <td>71.36</td>\n",
       "      <td>90.85%</td>\n",
       "      <td>89.07%</td>\n",
       "      <td>80.79%</td>\n",
       "    </tr>\n",
       "    <tr>\n",
       "      <th>Figueroa High School</th>\n",
       "      <td>[Government]</td>\n",
       "      <td>2,949</td>\n",
       "      <td>$1,884,411.00</td>\n",
       "      <td>$639.00</td>\n",
       "      <td>68.70</td>\n",
       "      <td>69.08</td>\n",
       "      <td>81.65%</td>\n",
       "      <td>82.81%</td>\n",
       "      <td>67.65%</td>\n",
       "    </tr>\n",
       "    <tr>\n",
       "      <th>Ford High School</th>\n",
       "      <td>[Government]</td>\n",
       "      <td>2,739</td>\n",
       "      <td>$1,763,916.00</td>\n",
       "      <td>$644.00</td>\n",
       "      <td>69.09</td>\n",
       "      <td>69.57</td>\n",
       "      <td>82.44%</td>\n",
       "      <td>82.22%</td>\n",
       "      <td>67.47%</td>\n",
       "    </tr>\n",
       "    <tr>\n",
       "      <th>Griffin High School</th>\n",
       "      <td>[Independent]</td>\n",
       "      <td>1,468</td>\n",
       "      <td>$917,500.00</td>\n",
       "      <td>$625.00</td>\n",
       "      <td>71.79</td>\n",
       "      <td>71.25</td>\n",
       "      <td>91.21%</td>\n",
       "      <td>88.49%</td>\n",
       "      <td>81.34%</td>\n",
       "    </tr>\n",
       "  </tbody>\n",
       "</table>\n",
       "</div>"
      ],
      "text/plain": [
       "                        School Type Total Students Total School Budget  \\\n",
       "School Name                                                              \n",
       "Bailey High School     [Government]          4,976       $3,124,928.00   \n",
       "Cabrera High School   [Independent]          1,858       $1,081,356.00   \n",
       "Figueroa High School   [Government]          2,949       $1,884,411.00   \n",
       "Ford High School       [Government]          2,739       $1,763,916.00   \n",
       "Griffin High School   [Independent]          1,468         $917,500.00   \n",
       "\n",
       "                     Per Student Budget Average Maths Score  \\\n",
       "School Name                                                   \n",
       "Bailey High School              $628.00               72.35   \n",
       "Cabrera High School             $582.00               71.66   \n",
       "Figueroa High School            $639.00               68.70   \n",
       "Ford High School                $644.00               69.09   \n",
       "Griffin High School             $625.00               71.79   \n",
       "\n",
       "                     Average Reading Score % Passing Maths % Passing Reading  \\\n",
       "School Name                                                                    \n",
       "Bailey High School                   71.01          91.64%            87.38%   \n",
       "Cabrera High School                  71.36          90.85%            89.07%   \n",
       "Figueroa High School                 69.08          81.65%            82.81%   \n",
       "Ford High School                     69.57          82.44%            82.22%   \n",
       "Griffin High School                  71.25          91.21%            88.49%   \n",
       "\n",
       "                     % Overall Passing  \n",
       "School Name                             \n",
       "Bailey High School              80.08%  \n",
       "Cabrera High School             80.79%  \n",
       "Figueroa High School            67.65%  \n",
       "Ford High School                67.47%  \n",
       "Griffin High School             81.34%  "
      ]
     },
     "execution_count": 15,
     "metadata": {},
     "output_type": "execute_result"
    }
   ],
   "source": [
    "# Create a DataFrame that summarises key metrics about each school\n",
    "\n",
    "grouped_schools = tidy_complete_challenge.groupby('School Name')\n",
    "grouped_schools\n",
    "\n",
    "school_name = grouped_schools['School Name'].unique()\n",
    "school_name\n",
    "\n",
    "school_type = grouped_schools['School Type'].unique()\n",
    "school_type\n",
    "\n",
    "total_students = grouped_schools['Student ID'].nunique()\n",
    "total_students\n",
    "\n",
    "total_school_budget = grouped_schools['School Budget'].unique()\n",
    "total_school_budget\n",
    "\n",
    "per_student_budget = total_school_budget/total_students\n",
    "per_student_budget\n",
    "\n",
    "average_maths_score = grouped_schools['Maths Score'].mean()\n",
    "average_maths_score\n",
    "\n",
    "average_reading_score = grouped_schools['Reading Score'].mean()\n",
    "average_reading_score\n",
    "\n",
    "percent_pass_maths = tidy_complete_challenge[tidy_complete_challenge['Maths Score'] >= 50].groupby(['School Name']).count()['Student ID']/total_students*100\n",
    "percent_pass_maths\n",
    "\n",
    "percent_pass_reading = tidy_complete_challenge[tidy_complete_challenge['Reading Score'] >= 50].groupby(['School Name']).count()['Student ID']/total_students*100\n",
    "percent_pass_reading\n",
    "\n",
    "percent_pass_maths_and_reading = tidy_complete_challenge.loc[(tidy_complete_challenge['Maths Score'] >= 50) & (tidy_complete_challenge['Reading Score'] >= 50)].groupby(['School Name']).count()['Student ID']/total_students*100\n",
    "percent_pass_maths_and_reading\n",
    "\n",
    "# DataFrame for above calculations\n",
    "school_summary_df = pd.DataFrame({\n",
    "     \"School Type\": school_type,\n",
    "     \"Total Students\": total_students,\n",
    "     \"Total School Budget\": total_school_budget,\n",
    "     \"Per Student Budget\": per_student_budget,\n",
    "     \"Average Maths Score\": average_maths_score,\n",
    "     \"Average Reading Score\": average_reading_score,\n",
    "     \"% Passing Maths\": percent_pass_maths,\n",
    "     \"% Passing Reading\": percent_pass_reading,\n",
    "     \"% Overall Passing\": percent_pass_maths_and_reading\n",
    "})\n",
    "\n",
    "# Changed Total School Budget and Per Student Budget from objects to integers so the formatting would work\n",
    "school_summary_df = school_summary_df.astype({\"Total School Budget\": \"int\",\n",
    "                                         \"Per Student Budget\": \"int\"})\n",
    "\n",
    "# Formatting\n",
    "school_summary_df[\"Total Students\"] = school_summary_df[\"Total Students\"].map(\"{:,}\".format)\n",
    "school_summary_df[\"Total School Budget\"] = school_summary_df[\"Total School Budget\"].map(\"${0:,.2f}\".format)\n",
    "school_summary_df[\"Per Student Budget\"] = school_summary_df[\"Per Student Budget\"].map(\"${0:,.2f}\".format)\n",
    "school_summary_df[\"Average Maths Score\"] = school_summary_df[\"Average Maths Score\"].map(\"{0:,.2f}\".format)\n",
    "school_summary_df[\"Average Reading Score\"] = school_summary_df[\"Average Reading Score\"].map(\"{0:,.2f}\".format)\n",
    "school_summary_df[\"% Passing Maths\"] = school_summary_df[\"% Passing Maths\"].map(\"{0:,.2f}%\".format)\n",
    "school_summary_df[\"% Passing Reading\"] = school_summary_df[\"% Passing Reading\"].map(\"{0:,.2f}%\".format)\n",
    "school_summary_df[\"% Overall Passing\"] = school_summary_df[\"% Overall Passing\"].map(\"{0:,.2f}%\".format)\n",
    "\n",
    "\n",
    "school_summary_df.head()"
   ]
  },
  {
   "cell_type": "code",
   "execution_count": null,
   "id": "570f4439-1111-471b-b93c-2d82228ff7a4",
   "metadata": {},
   "outputs": [],
   "source": [
    "#Sort the schools by % Overall Passing in descending order and display the top 5 rows\n",
    "#Save the results in a DataFrame called \"top_schools\"\n",
    "\n",
    "top_schools_df = school_summary_df.sort_values(\"% Overall Passing\", ascending = False)\n",
    "top_schools_df.head()"
   ]
  },
  {
   "cell_type": "code",
   "execution_count": null,
   "id": "14ab6f52-aa7f-481d-93ca-af601edf2d3c",
   "metadata": {},
   "outputs": [],
   "source": [
    "#Sort the schools by % Overall Passing in ascending order and display the top 5 rows\n",
    "# Save the results in a DataFrame called \"bottom_schools\"\n",
    "\n",
    "bottom_schools_df = school_summary_df.sort_values(\"% Overall Passing\")\n",
    "bottom_schools_df.head()"
   ]
  },
  {
   "cell_type": "code",
   "execution_count": null,
   "id": "5dc474be-8f90-4396-aaa0-469dda0197b1",
   "metadata": {},
   "outputs": [],
   "source": [
    "# Perform the necessary calculations to create a DataFrame that lists the average maths score \n",
    "# for students of each year level (9, 10, 11, 12) at each school\n",
    "\n",
    "year_9 = tidy_complete_challenge.loc[(tidy_complete_challenge[\"Year\"] == 9), :].groupby(\"School Name\")[\"Maths Score\"].mean()\n",
    "year_9\n",
    "\n",
    "year_10 = tidy_complete_challenge.loc[(tidy_complete_challenge[\"Year\"] == 10), :].groupby(\"School Name\")[\"Maths Score\"].mean()\n",
    "year_10\n",
    "\n",
    "year_11 = tidy_complete_challenge.loc[(tidy_complete_challenge[\"Year\"] == 11), :].groupby(\"School Name\")[\"Maths Score\"].mean()\n",
    "year_11\n",
    "\n",
    "year_12 = tidy_complete_challenge.loc[(tidy_complete_challenge[\"Year\"] == 12), :].groupby(\"School Name\")[\"Maths Score\"].mean()\n",
    "year_12\n",
    "\n",
    "average_maths_df = pd.DataFrame({\n",
    "     #\"School Name\": school_name,\n",
    "     \"Year 9\": year_9,\n",
    "     \"Year 10\": year_10,\n",
    "     \"Year 11\": year_11,\n",
    "     \"Year 12\": year_12,\n",
    "    })\n",
    "\n",
    "average_maths_df[\"Year 9\"] = average_maths_df[\"Year 9\"].map(\"{0:,.2f}\".format)\n",
    "average_maths_df[\"Year 10\"] = average_maths_df[\"Year 10\"].map(\"{0:,.2f}\".format)\n",
    "average_maths_df[\"Year 11\"] = average_maths_df[\"Year 11\"].map(\"{0:,.2f}\".format)\n",
    "average_maths_df[\"Year 12\"] = average_maths_df[\"Year 12\"].map(\"{0:,.2f}\".format)\n",
    "\n",
    "average_maths_df\n",
    "\n",
    "#tidy_complete_challenge.dtypes"
   ]
  },
  {
   "cell_type": "code",
   "execution_count": null,
   "id": "c0f295fb-e7ad-43f9-8b81-499a6c7d8b91",
   "metadata": {},
   "outputs": [],
   "source": [
    "# Create a DataFrame that lists the average reading score for students of each year level \n",
    "# (9, 10, 11, 12) at each school\n",
    "\n",
    "year_9 = tidy_complete_challenge.loc[(tidy_complete_challenge[\"Year\"] == 9), :].groupby(\"School Name\")[\"Reading Score\"].mean()\n",
    "year_9\n",
    "\n",
    "year_10 = tidy_complete_challenge.loc[(tidy_complete_challenge[\"Year\"] == 10), :].groupby(\"School Name\")[\"Reading Score\"].mean()\n",
    "year_10\n",
    "\n",
    "year_11 = tidy_complete_challenge.loc[(tidy_complete_challenge[\"Year\"] == 11), :].groupby(\"School Name\")[\"Reading Score\"].mean()\n",
    "year_11\n",
    "\n",
    "year_12 = tidy_complete_challenge.loc[(tidy_complete_challenge[\"Year\"] == 12), :].groupby(\"School Name\")[\"Reading Score\"].mean()\n",
    "year_12\n",
    "\n",
    "average_reading_df = pd.DataFrame({\n",
    "     #\"School Name\": school_name,\n",
    "     \"Year 9\": year_9,\n",
    "     \"Year 10\": year_10,\n",
    "     \"Year 11\": year_11,\n",
    "     \"Year 12\": year_12,\n",
    "    })\n",
    "\n",
    "average_reading_df[\"Year 9\"] = average_reading_df[\"Year 9\"].map(\"{0:,.2f}\".format)\n",
    "average_reading_df[\"Year 10\"] = average_reading_df[\"Year 10\"].map(\"{0:,.2f}\".format)\n",
    "average_reading_df[\"Year 11\"] = average_reading_df[\"Year 11\"].map(\"{0:,.2f}\".format)\n",
    "average_reading_df[\"Year 12\"] = average_reading_df[\"Year 12\"].map(\"{0:,.2f}\".format)\n",
    "\n",
    "average_reading_df"
   ]
  },
  {
   "cell_type": "code",
   "execution_count": 20,
   "id": "1c5a44ef-65ec-48bb-8c17-ce5d97f938a0",
   "metadata": {},
   "outputs": [
    {
     "ename": "TypeError",
     "evalue": "'<' not supported between instances of 'int' and 'str'",
     "output_type": "error",
     "traceback": [
      "\u001b[1;31m---------------------------------------------------------------------------\u001b[0m",
      "\u001b[1;31mTypeError\u001b[0m                                 Traceback (most recent call last)",
      "Cell \u001b[1;32mIn[20], line 8\u001b[0m\n\u001b[0;32m      5\u001b[0m bins \u001b[38;5;241m=\u001b[39m [\u001b[38;5;241m0\u001b[39m, \u001b[38;5;241m585\u001b[39m, \u001b[38;5;241m630\u001b[39m, \u001b[38;5;241m645\u001b[39m, \u001b[38;5;241m680\u001b[39m]\n\u001b[0;32m      6\u001b[0m labels \u001b[38;5;241m=\u001b[39m [\u001b[38;5;124m\"\u001b[39m\u001b[38;5;124m<$585\u001b[39m\u001b[38;5;124m\"\u001b[39m, \u001b[38;5;124m\"\u001b[39m\u001b[38;5;124m$585-630\u001b[39m\u001b[38;5;124m\"\u001b[39m, \u001b[38;5;124m\"\u001b[39m\u001b[38;5;124m$630-645\u001b[39m\u001b[38;5;124m\"\u001b[39m, \u001b[38;5;124m\"\u001b[39m\u001b[38;5;124m$645-680\u001b[39m\u001b[38;5;124m\"\u001b[39m]\n\u001b[1;32m----> 8\u001b[0m school_summary_df[\u001b[38;5;124m\"\u001b[39m\u001b[38;5;124mSpending Ranges (Per Student)\u001b[39m\u001b[38;5;124m\"\u001b[39m] \u001b[38;5;241m=\u001b[39m pd\u001b[38;5;241m.\u001b[39mcut(school_summary_df[\u001b[38;5;124m\"\u001b[39m\u001b[38;5;124mPer Student Budget\u001b[39m\u001b[38;5;124m\"\u001b[39m], bins, labels\u001b[38;5;241m=\u001b[39mlabels, include_lowest\u001b[38;5;241m=\u001b[39m\u001b[38;5;28;01mTrue\u001b[39;00m)\n\u001b[0;32m      9\u001b[0m school_summary_df\u001b[38;5;241m.\u001b[39mhead()\n",
      "File \u001b[1;32m~\\anaconda3\\envs\\NewPythonData\\Lib\\site-packages\\pandas\\core\\reshape\\tile.py:293\u001b[0m, in \u001b[0;36mcut\u001b[1;34m(x, bins, right, labels, retbins, precision, include_lowest, duplicates, ordered)\u001b[0m\n\u001b[0;32m    290\u001b[0m     \u001b[38;5;28;01mif\u001b[39;00m (np\u001b[38;5;241m.\u001b[39mdiff(bins\u001b[38;5;241m.\u001b[39mastype(\u001b[38;5;124m\"\u001b[39m\u001b[38;5;124mfloat64\u001b[39m\u001b[38;5;124m\"\u001b[39m)) \u001b[38;5;241m<\u001b[39m \u001b[38;5;241m0\u001b[39m)\u001b[38;5;241m.\u001b[39many():\n\u001b[0;32m    291\u001b[0m         \u001b[38;5;28;01mraise\u001b[39;00m \u001b[38;5;167;01mValueError\u001b[39;00m(\u001b[38;5;124m\"\u001b[39m\u001b[38;5;124mbins must increase monotonically.\u001b[39m\u001b[38;5;124m\"\u001b[39m)\n\u001b[1;32m--> 293\u001b[0m fac, bins \u001b[38;5;241m=\u001b[39m _bins_to_cuts(\n\u001b[0;32m    294\u001b[0m     x,\n\u001b[0;32m    295\u001b[0m     bins,\n\u001b[0;32m    296\u001b[0m     right\u001b[38;5;241m=\u001b[39mright,\n\u001b[0;32m    297\u001b[0m     labels\u001b[38;5;241m=\u001b[39mlabels,\n\u001b[0;32m    298\u001b[0m     precision\u001b[38;5;241m=\u001b[39mprecision,\n\u001b[0;32m    299\u001b[0m     include_lowest\u001b[38;5;241m=\u001b[39minclude_lowest,\n\u001b[0;32m    300\u001b[0m     dtype\u001b[38;5;241m=\u001b[39mdtype,\n\u001b[0;32m    301\u001b[0m     duplicates\u001b[38;5;241m=\u001b[39mduplicates,\n\u001b[0;32m    302\u001b[0m     ordered\u001b[38;5;241m=\u001b[39mordered,\n\u001b[0;32m    303\u001b[0m )\n\u001b[0;32m    305\u001b[0m \u001b[38;5;28;01mreturn\u001b[39;00m _postprocess_for_cut(fac, bins, retbins, dtype, original)\n",
      "File \u001b[1;32m~\\anaconda3\\envs\\NewPythonData\\Lib\\site-packages\\pandas\\core\\reshape\\tile.py:428\u001b[0m, in \u001b[0;36m_bins_to_cuts\u001b[1;34m(x, bins, right, labels, precision, include_lowest, dtype, duplicates, ordered)\u001b[0m\n\u001b[0;32m    425\u001b[0m         bins \u001b[38;5;241m=\u001b[39m unique_bins\n\u001b[0;32m    427\u001b[0m side: Literal[\u001b[38;5;124m\"\u001b[39m\u001b[38;5;124mleft\u001b[39m\u001b[38;5;124m\"\u001b[39m, \u001b[38;5;124m\"\u001b[39m\u001b[38;5;124mright\u001b[39m\u001b[38;5;124m\"\u001b[39m] \u001b[38;5;241m=\u001b[39m \u001b[38;5;124m\"\u001b[39m\u001b[38;5;124mleft\u001b[39m\u001b[38;5;124m\"\u001b[39m \u001b[38;5;28;01mif\u001b[39;00m right \u001b[38;5;28;01melse\u001b[39;00m \u001b[38;5;124m\"\u001b[39m\u001b[38;5;124mright\u001b[39m\u001b[38;5;124m\"\u001b[39m\n\u001b[1;32m--> 428\u001b[0m ids \u001b[38;5;241m=\u001b[39m ensure_platform_int(bins\u001b[38;5;241m.\u001b[39msearchsorted(x, side\u001b[38;5;241m=\u001b[39mside))\n\u001b[0;32m    430\u001b[0m \u001b[38;5;28;01mif\u001b[39;00m include_lowest:\n\u001b[0;32m    431\u001b[0m     ids[np\u001b[38;5;241m.\u001b[39masarray(x) \u001b[38;5;241m==\u001b[39m bins[\u001b[38;5;241m0\u001b[39m]] \u001b[38;5;241m=\u001b[39m \u001b[38;5;241m1\u001b[39m\n",
      "\u001b[1;31mTypeError\u001b[0m: '<' not supported between instances of 'int' and 'str'"
     ]
    }
   ],
   "source": [
    "# Create a table that breaks down school performance based on average spending ranges (per student).\n",
    "\n",
    "# Use the code provided below to create four bins with reasonable cutoff values to group school spending.\n",
    "\n",
    "bins = [0, 585, 630, 645, 680]\n",
    "labels = [\"<$585\", \"$585-630\", \"$630-645\", \"$645-680\"]\n",
    "\n",
    "school_summary_df[\"Spending Ranges (Per Student)\"] = pd.cut(school_summary_df[\"Per Student Budget\"], bins, labels=labels, include_lowest=True)\n",
    "school_summary_df.head()\n",
    "\n",
    "# school_spending_df = school_summary_df.groupby(\"Spending Ranges (Per Student)\").mean().drop('Total Students', axis=1)\n",
    "# school_spending_df.head()\n"
   ]
  },
  {
   "cell_type": "code",
   "execution_count": 22,
   "id": "0d8841aa-a094-45c3-bf3b-0ada2059e401",
   "metadata": {},
   "outputs": [
    {
     "ename": "TypeError",
     "evalue": "'<' not supported between instances of 'int' and 'str'",
     "output_type": "error",
     "traceback": [
      "\u001b[1;31m---------------------------------------------------------------------------\u001b[0m",
      "\u001b[1;31mTypeError\u001b[0m                                 Traceback (most recent call last)",
      "Cell \u001b[1;32mIn[22], line 7\u001b[0m\n\u001b[0;32m      4\u001b[0m bins \u001b[38;5;241m=\u001b[39m [\u001b[38;5;241m0\u001b[39m, \u001b[38;5;241m1000\u001b[39m, \u001b[38;5;241m2000\u001b[39m, \u001b[38;5;241m5000\u001b[39m]\n\u001b[0;32m      5\u001b[0m labels \u001b[38;5;241m=\u001b[39m [\u001b[38;5;124m\"\u001b[39m\u001b[38;5;124mSmall (<1000)\u001b[39m\u001b[38;5;124m\"\u001b[39m, \u001b[38;5;124m\"\u001b[39m\u001b[38;5;124mMedium (1000-2000)\u001b[39m\u001b[38;5;124m\"\u001b[39m, \u001b[38;5;124m\"\u001b[39m\u001b[38;5;124mLarge (2000-5000)\u001b[39m\u001b[38;5;124m\"\u001b[39m]\n\u001b[1;32m----> 7\u001b[0m school_summary_df[\u001b[38;5;124m\"\u001b[39m\u001b[38;5;124mSchool Size\u001b[39m\u001b[38;5;124m\"\u001b[39m] \u001b[38;5;241m=\u001b[39m pd\u001b[38;5;241m.\u001b[39mcut(school_summary_df[\u001b[38;5;124m\"\u001b[39m\u001b[38;5;124mTotal Students\u001b[39m\u001b[38;5;124m\"\u001b[39m], bins, labels\u001b[38;5;241m=\u001b[39mlabels, include_lowest\u001b[38;5;241m=\u001b[39m\u001b[38;5;28;01mTrue\u001b[39;00m)\n\u001b[0;32m      8\u001b[0m school_summary_df\u001b[38;5;241m.\u001b[39mhead()\n\u001b[0;32m     10\u001b[0m size_summary_df \u001b[38;5;241m=\u001b[39m school_summary_df\u001b[38;5;241m.\u001b[39mgroupby(\u001b[38;5;124m\"\u001b[39m\u001b[38;5;124mSchool Size\u001b[39m\u001b[38;5;124m\"\u001b[39m)\u001b[38;5;241m.\u001b[39mmean()\u001b[38;5;241m.\u001b[39mdrop(\u001b[38;5;124m'\u001b[39m\u001b[38;5;124mTotal Students\u001b[39m\u001b[38;5;124m'\u001b[39m, axis\u001b[38;5;241m=\u001b[39m\u001b[38;5;241m1\u001b[39m)\n",
      "File \u001b[1;32m~\\anaconda3\\envs\\NewPythonData\\Lib\\site-packages\\pandas\\core\\reshape\\tile.py:293\u001b[0m, in \u001b[0;36mcut\u001b[1;34m(x, bins, right, labels, retbins, precision, include_lowest, duplicates, ordered)\u001b[0m\n\u001b[0;32m    290\u001b[0m     \u001b[38;5;28;01mif\u001b[39;00m (np\u001b[38;5;241m.\u001b[39mdiff(bins\u001b[38;5;241m.\u001b[39mastype(\u001b[38;5;124m\"\u001b[39m\u001b[38;5;124mfloat64\u001b[39m\u001b[38;5;124m\"\u001b[39m)) \u001b[38;5;241m<\u001b[39m \u001b[38;5;241m0\u001b[39m)\u001b[38;5;241m.\u001b[39many():\n\u001b[0;32m    291\u001b[0m         \u001b[38;5;28;01mraise\u001b[39;00m \u001b[38;5;167;01mValueError\u001b[39;00m(\u001b[38;5;124m\"\u001b[39m\u001b[38;5;124mbins must increase monotonically.\u001b[39m\u001b[38;5;124m\"\u001b[39m)\n\u001b[1;32m--> 293\u001b[0m fac, bins \u001b[38;5;241m=\u001b[39m _bins_to_cuts(\n\u001b[0;32m    294\u001b[0m     x,\n\u001b[0;32m    295\u001b[0m     bins,\n\u001b[0;32m    296\u001b[0m     right\u001b[38;5;241m=\u001b[39mright,\n\u001b[0;32m    297\u001b[0m     labels\u001b[38;5;241m=\u001b[39mlabels,\n\u001b[0;32m    298\u001b[0m     precision\u001b[38;5;241m=\u001b[39mprecision,\n\u001b[0;32m    299\u001b[0m     include_lowest\u001b[38;5;241m=\u001b[39minclude_lowest,\n\u001b[0;32m    300\u001b[0m     dtype\u001b[38;5;241m=\u001b[39mdtype,\n\u001b[0;32m    301\u001b[0m     duplicates\u001b[38;5;241m=\u001b[39mduplicates,\n\u001b[0;32m    302\u001b[0m     ordered\u001b[38;5;241m=\u001b[39mordered,\n\u001b[0;32m    303\u001b[0m )\n\u001b[0;32m    305\u001b[0m \u001b[38;5;28;01mreturn\u001b[39;00m _postprocess_for_cut(fac, bins, retbins, dtype, original)\n",
      "File \u001b[1;32m~\\anaconda3\\envs\\NewPythonData\\Lib\\site-packages\\pandas\\core\\reshape\\tile.py:428\u001b[0m, in \u001b[0;36m_bins_to_cuts\u001b[1;34m(x, bins, right, labels, precision, include_lowest, dtype, duplicates, ordered)\u001b[0m\n\u001b[0;32m    425\u001b[0m         bins \u001b[38;5;241m=\u001b[39m unique_bins\n\u001b[0;32m    427\u001b[0m side: Literal[\u001b[38;5;124m\"\u001b[39m\u001b[38;5;124mleft\u001b[39m\u001b[38;5;124m\"\u001b[39m, \u001b[38;5;124m\"\u001b[39m\u001b[38;5;124mright\u001b[39m\u001b[38;5;124m\"\u001b[39m] \u001b[38;5;241m=\u001b[39m \u001b[38;5;124m\"\u001b[39m\u001b[38;5;124mleft\u001b[39m\u001b[38;5;124m\"\u001b[39m \u001b[38;5;28;01mif\u001b[39;00m right \u001b[38;5;28;01melse\u001b[39;00m \u001b[38;5;124m\"\u001b[39m\u001b[38;5;124mright\u001b[39m\u001b[38;5;124m\"\u001b[39m\n\u001b[1;32m--> 428\u001b[0m ids \u001b[38;5;241m=\u001b[39m ensure_platform_int(bins\u001b[38;5;241m.\u001b[39msearchsorted(x, side\u001b[38;5;241m=\u001b[39mside))\n\u001b[0;32m    430\u001b[0m \u001b[38;5;28;01mif\u001b[39;00m include_lowest:\n\u001b[0;32m    431\u001b[0m     ids[np\u001b[38;5;241m.\u001b[39masarray(x) \u001b[38;5;241m==\u001b[39m bins[\u001b[38;5;241m0\u001b[39m]] \u001b[38;5;241m=\u001b[39m \u001b[38;5;241m1\u001b[39m\n",
      "\u001b[1;31mTypeError\u001b[0m: '<' not supported between instances of 'int' and 'str'"
     ]
    }
   ],
   "source": [
    "# Scores by School Size\n",
    "# Use the following code to bin the per_school_summary.\n",
    "\n",
    "bins = [0, 1000, 2000, 5000]\n",
    "labels = [\"Small (<1000)\", \"Medium (1000-2000)\", \"Large (2000-5000)\"]\n",
    "\n",
    "school_summary_df[\"School Size\"] = pd.cut(school_summary_df[\"Total Students\"], bins, labels=labels, include_lowest=True)\n",
    "school_summary_df.head()\n",
    "\n",
    "size_summary_df = school_summary_df.groupby(\"School Size\").mean().drop('Total Students', axis=1)\n",
    "size_summary_df.head()\n"
   ]
  },
  {
   "cell_type": "code",
   "execution_count": 26,
   "id": "40c857c6-1dff-4bb8-a76e-1967d85e442c",
   "metadata": {
    "tags": []
   },
   "outputs": [
    {
     "ename": "NameError",
     "evalue": "name 'size_summary_df' is not defined",
     "output_type": "error",
     "traceback": [
      "\u001b[1;31m---------------------------------------------------------------------------\u001b[0m",
      "\u001b[1;31mNameError\u001b[0m                                 Traceback (most recent call last)",
      "Cell \u001b[1;32mIn[26], line 5\u001b[0m\n\u001b[0;32m      1\u001b[0m \u001b[38;5;66;03m# Use the per_school_summary DataFrame from the previous step to create a new DataFrame called type_summary\u001b[39;00m\n\u001b[0;32m      2\u001b[0m \n\u001b[0;32m      3\u001b[0m \u001b[38;5;66;03m# This new DataFrame should show school performance based on the \"School Type\"\u001b[39;00m\n\u001b[1;32m----> 5\u001b[0m type_summary_df \u001b[38;5;241m=\u001b[39m size_summary_df\u001b[38;5;241m.\u001b[39mgroupby(\u001b[38;5;124m\"\u001b[39m\u001b[38;5;124mSchool Type\u001b[39m\u001b[38;5;124m\"\u001b[39m)\u001b[38;5;241m.\u001b[39mmean()\u001b[38;5;66;03m#.drop('Total Students', axis=1)\u001b[39;00m\n\u001b[0;32m      6\u001b[0m type_summary_df\u001b[38;5;241m.\u001b[39mhead()\n",
      "\u001b[1;31mNameError\u001b[0m: name 'size_summary_df' is not defined"
     ]
    }
   ],
   "source": [
    "# Use the per_school_summary DataFrame from the previous step to create a new DataFrame called type_summary\n",
    "\n",
    "# This new DataFrame should show school performance based on the \"School Type\"\n",
    "\n",
    "type_summary_df = size_summary_df.groupby(\"School Type\").mean()#.drop('Total Students', axis=1)\n",
    "type_summary_df.head()\n"
   ]
  },
  {
   "cell_type": "code",
   "execution_count": null,
   "id": "ea55b155-be36-47f8-b4c7-44034ab4d149",
   "metadata": {},
   "outputs": [],
   "source": []
  }
 ],
 "metadata": {
  "kernelspec": {
   "display_name": "Python 3 (ipykernel)",
   "language": "python",
   "name": "python3"
  },
  "language_info": {
   "codemirror_mode": {
    "name": "ipython",
    "version": 3
   },
   "file_extension": ".py",
   "mimetype": "text/x-python",
   "name": "python",
   "nbconvert_exporter": "python",
   "pygments_lexer": "ipython3",
   "version": "3.11.4"
  }
 },
 "nbformat": 4,
 "nbformat_minor": 5
}
