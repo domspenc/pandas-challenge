# Good luck Dom, you got this girl!


!pip install pandas


# Dependencies and Setup
import pandas as pd
#import pandas_profiling - ask about this!!
from pathlib import Path

# File to Load 
school_data_to_load = Path("Resources/schools_complete.csv")
student_data_to_load = Path("Resources/students_complete.csv")

# Read School and Student Data File and store into Pandas DataFrames
school_data_df = pd.read_csv(school_data_to_load)
student_data_df = pd.read_csv(student_data_to_load)

# Combine the data into a single DataFrame.  
complete_challenge_df = pd.merge(student_data_df, school_data_df, how="left", on=["school_name", "school_name"])


# Get a snapshot of the data to make sure it's correct
complete_challenge_df.head()


# Look at df details and check for null-values, odd datatypes, duplicates etc...
# Complete_challenge_df.info() - all good!
# Complete_challenge_df.count() - all good!


# Rename columns for aesthetics
tidy_complete_challenge = complete_challenge_df.rename(columns={"student_name": "Student Name", "gender": "Gender",
                                              "year": "Year", "school_name": "School Name", "reading_score": "Reading Score",
                                                "maths_score": "Maths Score", "type": "School Type", "size": "School Size", "budget": "School Budget"})
tidy_complete_challenge.head()


# Perform the necessary calculations and then create a high-level snapshot of the local 
# government area's key metrics in a DataFrame


# Total number of unique schools
unique_schools_df = tidy_complete_challenge['School Name'].nunique()
unique_schools_df


# Total students
total_students_df = tidy_complete_challenge['Student ID'].nunique()
total_students_df


# Total budget
total_budget_df = tidy_complete_challenge['School Budget'].unique()
total_budget_df.sum()


# Average maths score
mean_maths_df = tidy_complete_challenge['Maths Score'].mean()
mean_maths_df


# Average reading score
mean_reading_df = tidy_complete_challenge['Reading Score'].mean()
mean_reading_df


# % passing maths (the percentage of students who passed maths)
maths_pass_percent_df = tidy_complete_challenge[tidy_complete_challenge['Maths Score'] >= 50].count()/total_students_df*100
maths_pass_percent_df['Maths Score']


# % passing reading (the percentage of students who passed reading)
reading_pass_percent_df = tidy_complete_challenge[tidy_complete_challenge['Reading Score'] >= 50].count()/total_students_df*100
reading_pass_percent_df['Reading Score']


# % overall passing (the percentage of students who passed maths AND reading)
maths_reading_df = tidy_complete_challenge.loc[(tidy_complete_challenge['Maths Score'] >= 50) & (tidy_complete_challenge['Reading Score'] >= 50)]
maths_and_reading_df = (maths_reading_df['Student ID'].nunique()/total_students_df*100)
maths_and_reading_df


# DataFrame for overall school data, with floats rounded to 2 decimal places for clarity

lga_summary_df = pd.DataFrame([
    {"Total Schools": unique_schools_df,
    "Total Students": f"{total_students_df:,}",
    "Total Budget": f"${total_budget_df.sum():,}",
    "Average Maths Score": f"{mean_maths_df:.2f}",
    "Average Reading Score": f"{mean_reading_df:.2f}",
    "% Passing Maths": f"{maths_pass_percent_df['Maths Score']:.2f}%",
    "% Passing Reading": f"{reading_pass_percent_df['Reading Score']:.2f}%",
    "% Overall Passing": f"{maths_and_reading_df:.2f}%"}
])
lga_summary_df


# Create a DataFrame that summarises key metrics about each school

grouped_schools = tidy_complete_challenge.groupby('School Name')
grouped_schools

school_name = grouped_schools['School Name'].unique()
school_name

school_type = grouped_schools['School Type'].unique()
school_type

total_students = grouped_schools['Student ID'].nunique()
total_students

total_school_budget = grouped_schools['School Budget'].unique()
total_school_budget

per_student_budget = total_school_budget/total_students
per_student_budget

average_maths_score = grouped_schools['Maths Score'].mean()
average_maths_score

average_reading_score = grouped_schools['Reading Score'].mean()
average_reading_score

percent_pass_maths = tidy_complete_challenge[tidy_complete_challenge['Maths Score'] >= 50].groupby(['School Name']).count()['Student ID']/total_students*100
percent_pass_maths

percent_pass_reading = tidy_complete_challenge[tidy_complete_challenge['Reading Score'] >= 50].groupby(['School Name']).count()['Student ID']/total_students*100
percent_pass_reading

percent_pass_maths_and_reading = tidy_complete_challenge.loc[(tidy_complete_challenge['Maths Score'] >= 50) & (tidy_complete_challenge['Reading Score'] >= 50)].groupby(['School Name']).count()['Student ID']/total_students*100
percent_pass_maths_and_reading

# DataFrame for above calculations
school_summary_df = pd.DataFrame({
     "School Type": school_type,
     "Total Students": total_students,
     "Total School Budget": total_school_budget,
     "Per Student Budget": per_student_budget,
     "Average Maths Score": average_maths_score,
     "Average Reading Score": average_reading_score,
     "% Passing Maths": percent_pass_maths,
     "% Passing Reading": percent_pass_reading,
     "% Overall Passing": percent_pass_maths_and_reading
})

# Changed Total School Budget and Per Student Budget from objects to integers so the formatting would work
school_summary_df = school_summary_df.astype({"Total School Budget": "int",
                                         "Per Student Budget": "int"})

# Formatting
school_summary_df["Total Students"] = school_summary_df["Total Students"].map("{:,}".format)
school_summary_df["Total School Budget"] = school_summary_df["Total School Budget"].map("${0:,.2f}".format)
school_summary_df["Per Student Budget"] = school_summary_df["Per Student Budget"].map("${0:,.2f}".format)
school_summary_df["Average Maths Score"] = school_summary_df["Average Maths Score"].map("{0:,.2f}".format)
school_summary_df["Average Reading Score"] = school_summary_df["Average Reading Score"].map("{0:,.2f}".format)
school_summary_df["% Passing Maths"] = school_summary_df["% Passing Maths"].map("{0:,.2f}%".format)
school_summary_df["% Passing Reading"] = school_summary_df["% Passing Reading"].map("{0:,.2f}%".format)
school_summary_df["% Overall Passing"] = school_summary_df["% Overall Passing"].map("{0:,.2f}%".format)


school_summary_df.head()


#Sort the schools by % Overall Passing in descending order and display the top 5 rows
#Save the results in a DataFrame called "top_schools"

top_schools_df = school_summary_df.sort_values("% Overall Passing", ascending = False)
top_schools_df.head()


#Sort the schools by % Overall Passing in ascending order and display the top 5 rows
# Save the results in a DataFrame called "bottom_schools"

bottom_schools_df = school_summary_df.sort_values("% Overall Passing")
bottom_schools_df.head()


# Perform the necessary calculations to create a DataFrame that lists the average maths score 
# for students of each year level (9, 10, 11, 12) at each school

year_9 = tidy_complete_challenge.loc[(tidy_complete_challenge["Year"] == 9), :].groupby("School Name")["Maths Score"].mean()
year_9

year_10 = tidy_complete_challenge.loc[(tidy_complete_challenge["Year"] == 10), :].groupby("School Name")["Maths Score"].mean()
year_10

year_11 = tidy_complete_challenge.loc[(tidy_complete_challenge["Year"] == 11), :].groupby("School Name")["Maths Score"].mean()
year_11

year_12 = tidy_complete_challenge.loc[(tidy_complete_challenge["Year"] == 12), :].groupby("School Name")["Maths Score"].mean()
year_12

average_maths_df = pd.DataFrame({
     #"School Name": school_name,
     "Year 9": year_9,
     "Year 10": year_10,
     "Year 11": year_11,
     "Year 12": year_12,
    })

average_maths_df.head()

#tidy_complete_challenge.dtypes


# Create a DataFrame that lists the average reading score for students of each year level 
# (9, 10, 11, 12) at each school

year_9 = tidy_complete_challenge.loc[(tidy_complete_challenge["Year"] == 9), :].groupby("School Name")["Reading Score"].mean()
year_9

year_10 = tidy_complete_challenge.loc[(tidy_complete_challenge["Year"] == 10), :].groupby("School Name")["Reading Score"].mean()
year_10

year_11 = tidy_complete_challenge.loc[(tidy_complete_challenge["Year"] == 11), :].groupby("School Name")["Reading Score"].mean()
year_11

year_12 = tidy_complete_challenge.loc[(tidy_complete_challenge["Year"] == 12), :].groupby("School Name")["Reading Score"].mean()
year_12

average_reading_df = pd.DataFrame({
     #"School Name": school_name,
     "Year 9": year_9,
     "Year 10": year_10,
     "Year 11": year_11,
     "Year 12": year_12,
    })

average_reading_df.head()


# Create a table that breaks down school performance based on average spending ranges (per student).

# Use the code provided below to create four bins with reasonable cutoff values to group school spending.

bins = [0, 585, 630, 645, 680]
labels = ["<$585", "$585-630", "$630-645", "$645-680"]

school_summary_df["Spending Ranges (Per Student)"] = pd.cut(school_summary_df["Per Student Budget"], bins, labels=labels, include_lowest=True)
school_summary_df.head()

school_spending_df = school_summary_df.groupby("Spending Ranges (Per Student)").mean().drop('Total Students', axis=1)
school_spending_df.head()



# Scores by School Size
# Use the following code to bin the per_school_summary.

bins = [0, 1000, 2000, 5000]
labels = ["Small (<1000)", "Medium (1000-2000)", "Large (2000-5000)"]

school_summary_df["School Size"] = pd.cut(school_summary_df["Total Students"], bins, labels=labels, include_lowest=True)
school_summary_df.head()

school_spending_df = school_summary_df.groupby("School Size").mean().drop('Total Students', axis=1)
school_spending_df.head()




